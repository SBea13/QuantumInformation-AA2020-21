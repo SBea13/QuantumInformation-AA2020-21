{
 "cells": [
  {
   "cell_type": "code",
   "execution_count": 2,
   "metadata": {},
   "outputs": [],
   "source": [
    "import matplotlib \n",
    "\n",
    "matplotlib.use(\"pgf\")\n",
    "matplotlib.rcParams.update({\n",
    "    \"pgf.texsystem\": \"pdflatex\",\n",
    "    'font.family': 'serif',\n",
    "    'text.usetex': True,\n",
    "    'pgf.rcfonts': False,\n",
    "})\n",
    "\n",
    "import matplotlib.pyplot as plt\n",
    "\n",
    "SMALL_SIZE = 8\n",
    "MEDIUM_SIZE = 10\n",
    "BIGGER_SIZE = 12\n",
    "\n",
    "plt.rc('font', size=SMALL_SIZE)          # controls default text sizes\n",
    "plt.rc('axes', titlesize=MEDIUM_SIZE)    # fontsize of the axes title\n",
    "plt.rc('axes', labelsize=SMALL_SIZE)     # fontsize of the x and y labels\n",
    "plt.rc('xtick', labelsize=SMALL_SIZE)    # fontsize of the tick labels\n",
    "plt.rc('ytick', labelsize=SMALL_SIZE)    # fontsize of the tick labels\n",
    "plt.rc('legend', fontsize=SMALL_SIZE)    # legend fontsize\n",
    "plt.rc('figure', titlesize=BIGGER_SIZE)  # fontsize of the figure title"
   ]
  },
  {
   "cell_type": "code",
   "execution_count": 3,
   "metadata": {},
   "outputs": [],
   "source": [
    "#import necessary packages\n",
    "import subprocess\n",
    "import numpy as np\n",
    "import os.path\n",
    "import os\n",
    "import sys\n",
    "import glob as glob\n",
    "import matplotlib.pyplot as plt\n",
    "\n",
    "class cd:\n",
    "    \"\"\"Context manager for changing the current working directory\"\"\"\n",
    "    def __init__(self, newPath):\n",
    "        self.newPath = os.path.expanduser(newPath)\n",
    "\n",
    "    def __enter__(self):\n",
    "        self.savedPath = os.getcwd()\n",
    "        os.chdir(self.newPath)\n",
    "\n",
    "    def __exit__(self, etype, value, traceback):\n",
    "        os.chdir(self.savedPath)"
   ]
  },
  {
   "cell_type": "code",
   "execution_count": 4,
   "metadata": {},
   "outputs": [],
   "source": [
    "Ns      = np.arange(2, 12, 1)"
   ]
  },
  {
   "cell_type": "code",
   "execution_count": 3,
   "metadata": {},
   "outputs": [
    {
     "name": "stdout",
     "output_type": "stream",
     "text": [
      "N =  2\n",
      "T_evl =  6.199999999999999e-05 T_H =  2.3999999999999716e-05\n",
      "N =  3\n",
      "T_evl =  8.099999999999991e-05 T_H =  3.000000000000008e-05\n",
      "N =  4\n",
      "T_evl =  9.200000000000007e-05 T_H =  6.700000000000022e-05\n",
      "N =  5\n",
      "T_evl =  0.00013000000000000077 T_H =  0.0002519999999999996\n",
      "N =  6\n",
      "T_evl =  0.000353 T_H =  0.0010869999999999999\n",
      "N =  7\n",
      "T_evl =  0.001424 T_H =  0.007319\n",
      "N =  8\n",
      "T_evl =  0.0078119999999999995 T_H =  0.05553399999999999\n",
      "N =  9\n",
      "T_evl =  0.05172399999999999 T_H =  0.46691\n",
      "N =  10\n",
      "T_evl =  0.438755 T_H =  3.549842\n",
      "N =  11\n",
      "T_evl =  3.0675109999999997 T_H =  31.329677\n"
     ]
    }
   ],
   "source": [
    "#run the program using o2 optimization flag\n",
    "\n",
    "subprocess.run([\"gfortran\", \"Ex9-Segalini-CODE.f90\", \"-llapack\", \"-o\", \"./run.exe\", \"-O2\"])\n",
    "\n",
    "# path = \"./data/\"\n",
    "\n",
    "#vector containing execution times \n",
    "times    = np.zeros((len(Ns), 2))\n",
    "\n",
    "for i in range(len(Ns)):\n",
    "    # lambda is set equal to 0.5\n",
    "    output = subprocess.run(['./run.exe'], stdout=subprocess.PIPE, \n",
    "                            input=\"{}\\n{}\\n\".format(Ns[i], 0.5), encoding=\"ascii\")\n",
    "    lines = output.stdout.lstrip().split('\\n')\n",
    "    #print(lines)\n",
    "    times[i, 0] = float(lines[-2]) #time for computing eigenvalues\n",
    "    times[i, 1] = float(lines[-4]) #time for computing H\n",
    "\n",
    "    print('N = ', Ns[i])\n",
    "    print('T_evl = ', times[i, 0], \"T_H = \", times[i, 1])\n"
   ]
  },
  {
   "cell_type": "code",
   "execution_count": 5,
   "metadata": {},
   "outputs": [],
   "source": [
    "# np.savetxt(\"./times.dat\", times, fmt='%f')\n",
    "times = np.loadtxt(\"times.dat\")"
   ]
  },
  {
   "cell_type": "code",
   "execution_count": 6,
   "metadata": {},
   "outputs": [
    {
     "name": "stderr",
     "output_type": "stream",
     "text": [
      "D:\\Anaconda\\envs\\tf\\lib\\site-packages\\ipykernel_launcher.py:15: UserWarning: Matplotlib is currently using pgf, which is a non-GUI backend, so cannot show the figure.\n",
      "  from ipykernel import kernelapp as app\n"
     ]
    }
   ],
   "source": [
    "fig, (ax1,ax2) = plt.subplots(1, 2, figsize=(6.68, 2.20))\n",
    "#fig, (ax1,ax2) = plt.subplots(1, 2, figsize=(14, 6))\n",
    "\n",
    "ax1.scatter(Ns, times[:, 0], c='r')\n",
    "ax2.scatter(Ns, times[:, 1], c='r')\n",
    "\n",
    "ax1.set_xlabel('Number of particles $N$')\n",
    "ax2.set_xlabel('Number of particles $N$')\n",
    "ax1.set_ylabel('Execution time [s]')\n",
    "\n",
    "ax1.set_title('Eigenvalues computation')\n",
    "ax2.set_title('$\\mathcal{H}$ construction')\n",
    "\n",
    "plt.tight_layout()\n",
    "plt.show()\n",
    "plt.savefig('times.pgf')"
   ]
  },
  {
   "cell_type": "code",
   "execution_count": 7,
   "metadata": {},
   "outputs": [],
   "source": [
    "# select some values of N for energy analysis\n",
    "Nn = np.arange(3, 10, 1)\n",
    "lambdas = np.linspace(0, 3, num=301)"
   ]
  },
  {
   "cell_type": "code",
   "execution_count": 7,
   "metadata": {
    "scrolled": true
   },
   "outputs": [
    {
     "name": "stdout",
     "output_type": "stream",
     "text": [
      "N =  3\n",
      "N =  4\n",
      "N =  5\n",
      "N =  6\n",
      "N =  7\n",
      "N =  8\n",
      "N =  9\n"
     ]
    }
   ],
   "source": [
    "# move to data folder\n",
    "datapath = './data/'\n",
    "\n",
    "# run the program for all the lambda-N combinations required\n",
    "# sort data in appropriate folders\n",
    "with cd(datapath):\n",
    "    for i in range(len(Nn)):\n",
    "        path = str(Nn[i])\n",
    "        subprocess.run([\"mkdir\", path])\n",
    "        subprocess.run([\"cp\", \"run.exe\", path])\n",
    "        with cd(path):\n",
    "            print(\"N = \", Nn[i])\n",
    "            for j in range(len(lambdas)):\n",
    "                subprocess.run(['./run.exe'], stdout=subprocess.PIPE, input=\"{}\\n{}\\n\".format(Nn[i], lambdas[j]),\n",
    "                                encoding=\"ascii\")\n"
   ]
  },
  {
   "cell_type": "code",
   "execution_count": 8,
   "metadata": {},
   "outputs": [],
   "source": [
    "# vector for storing the first 4 energy levels, for each N considered, as a function of lambda\n",
    "en_levels = np.zeros((len(Nn), len(lambdas), 4))\n",
    "\n",
    "# extract first 4 eigenvalues \n",
    "for i in range(len(Nn)):\n",
    "    path = './data/'+str(Nn[i])\n",
    "    with cd(path):\n",
    "        filenames = sorted(glob.glob('*.dat'))\n",
    "        for j, filename in enumerate(filenames):\n",
    "            with open(filename) as f:\n",
    "                #print(\"FILE = \", filename)   \n",
    "                en_levels[i, j, 0] = float(f.readline())\n",
    "                #print(\"e0=\", en_levels[i, j, 0])\n",
    "                en_levels[i, j, 1] = float(f.readline())\n",
    "                #print(\"e1=\", en_levels[i, j, 1])\n",
    "                en_levels[i, j, 2] = float(f.readline())\n",
    "                #print(\"e2=\", en_levels[i, j, 2])\n",
    "                en_levels[i, j, 3] = float(f.readline())\n",
    "                #print(\"e3=\", en_levels[i, j, 3])\n",
    "                "
   ]
  },
  {
   "cell_type": "code",
   "execution_count": 9,
   "metadata": {},
   "outputs": [
    {
     "name": "stderr",
     "output_type": "stream",
     "text": [
      "D:\\Anaconda\\envs\\tf\\lib\\site-packages\\ipykernel_launcher.py:27: UserWarning: Matplotlib is currently using pgf, which is a non-GUI backend, so cannot show the figure.\n"
     ]
    }
   ],
   "source": [
    "fig, ax = plt.subplots(2, 2, figsize=(6.68, 4))\n",
    "#fig, ax = plt.subplots(2, 2, figsize=(14, 10))\n",
    "\n",
    "for n in range(len(Nn)):\n",
    "    ax[0, 0].plot(lambdas, en_levels[n, :, 0]/(Nn[n]-1))\n",
    "    ax[0, 1].plot(lambdas, en_levels[n, :, 1]/(Nn[n]-1))\n",
    "    ax[1, 0].plot(lambdas, en_levels[n, :, 2]/(Nn[n]-1))\n",
    "    ax[1, 1].plot(lambdas, en_levels[n, :, 3]/(Nn[n]-1))\n",
    "\n",
    "ax[1, 0].set_xlabel(\"External interaction strength $\\lambda$\")\n",
    "ax[1, 1].set_xlabel(\"External interaction strength $\\lambda$\")\n",
    "\n",
    "ax[0, 0].set_ylabel(\"$E_0/(N-1)$\")\n",
    "ax[0, 1].set_ylabel(\"$E_1/(N-1)$\")\n",
    "ax[1, 0].set_ylabel(\"$E_2/(N-1)$\")\n",
    "ax[1, 1].set_ylabel(\"$E_3/(N-1)$\")\n",
    "\n",
    "\n",
    "ax[0, 0].legend(Nn, title=\"$N$\", loc='lower left')\n",
    "ax[1, 0].legend(Nn, title=\"$N$\", loc='lower left')\n",
    "ax[1, 1].legend(Nn, title=\"$N$\", loc='lower left')\n",
    "ax[0, 1].legend(Nn, title=\"$N$\", loc='lower left')\n",
    "\n",
    "ax2.set_title('N=3')\n",
    "\n",
    "plt.tight_layout()\n",
    "plt.show()\n",
    "plt.savefig('4evl_lambda_N.pgf')"
   ]
  },
  {
   "cell_type": "code",
   "execution_count": 10,
   "metadata": {},
   "outputs": [
    {
     "name": "stderr",
     "output_type": "stream",
     "text": [
      "D:\\Anaconda\\envs\\tf\\lib\\site-packages\\ipykernel_launcher.py:28: UserWarning: Matplotlib is currently using pgf, which is a non-GUI backend, so cannot show the figure.\n"
     ]
    }
   ],
   "source": [
    "fig, ax = plt.subplots(2, 2, figsize=(6.68, 4))\n",
    "#fig, ax = plt.subplots(2, 2, figsize=(14, 10))\n",
    "\n",
    "for n in range(len(Nn)):\n",
    "    ax[0, 0].plot(lambdas, en_levels[n, :, 0]/(Nn[n]-1))\n",
    "    ax[0, 1].plot(lambdas, en_levels[n, :, 1]/(Nn[n]-1))\n",
    "    ax[1, 0].plot(lambdas, en_levels[n, :, 2]/(Nn[n]-1))\n",
    "    ax[1, 1].plot(lambdas, en_levels[n, :, 3]/(Nn[n]-1))\n",
    "\n",
    "ax[1, 0].set_xlabel(\"External interaction strength $\\lambda$\")\n",
    "ax[1, 1].set_xlabel(\"External interaction strength $\\lambda$\")\n",
    "\n",
    "#ax[0,0].set_xscale('log')\n",
    "\n",
    "ax[0, 0].set_ylabel(\"$E_0/(N-1)$\")\n",
    "ax[0, 1].set_ylabel(\"$E_1/(N-1)$\")\n",
    "ax[1, 0].set_ylabel(\"$E_2/(N-1)$\")\n",
    "ax[1, 1].set_ylabel(\"$E_3/(N-1)$\")\n",
    "\n",
    "ax[0, 0].legend(Nn, title=\"$N$\", loc='lower left')\n",
    "ax[1, 0].legend(Nn, title=\"$N$\", loc='lower left')\n",
    "ax[1, 1].legend(Nn, title=\"$N$\", loc='lower left')\n",
    "ax[0, 1].legend(Nn, title=\"$N$\", loc='lower left')\n",
    "\n",
    "ax2.set_title('N=3')\n",
    "\n",
    "plt.tight_layout()\n",
    "plt.show()\n",
    "plt.savefig('4evl_lambda_N.pgf')"
   ]
  },
  {
   "cell_type": "code",
   "execution_count": 11,
   "metadata": {},
   "outputs": [
    {
     "name": "stderr",
     "output_type": "stream",
     "text": [
      "D:\\Anaconda\\envs\\tf\\lib\\site-packages\\ipykernel_launcher.py:21: UserWarning: Matplotlib is currently using pgf, which is a non-GUI backend, so cannot show the figure.\n"
     ]
    }
   ],
   "source": [
    "fig, ax = plt.subplots(1, 3, figsize=(6.68, 2.2))\n",
    "#fig, ax = plt.subplots(1, 3, figsize=(14, 5))\n",
    "\n",
    "for i in range(4):\n",
    "    ax[0].plot(lambdas, en_levels[0, :, i]/2)\n",
    "    ax[1].plot(lambdas, en_levels[3, :, i]/5)\n",
    "    ax[2].plot(lambdas, en_levels[6, :, i]/8)\n",
    "    \n",
    "\n",
    "ax[0].set_ylabel(\"$E_k/(N-1)$\")\n",
    "\n",
    "for i in range(3):\n",
    "    ax[i].set_xlabel(\"External interaction strength $\\lambda$\")\n",
    "    ax[i].set_xscale('log')\n",
    "    title = \"$N=\"+str(3*(i+1))+\"$\"\n",
    "    ax[i].legend((\"$E_0$\", \"$E_1$\", \"$E_2$\", \"$E_3$\"), title=title, loc='lower left')\n",
    "    ax[i].vlines(1, -5, 0.5, 'k', 'dashed')\n",
    "    ax[i].set_ylim(-4,0)\n",
    "    \n",
    "plt.tight_layout()\n",
    "plt.show()\n",
    "plt.savefig('3N_evl_lambda.pgf')"
   ]
  },
  {
   "cell_type": "code",
   "execution_count": 12,
   "metadata": {},
   "outputs": [
    {
     "name": "stderr",
     "output_type": "stream",
     "text": [
      "D:\\Anaconda\\envs\\tf\\lib\\site-packages\\ipykernel_launcher.py:21: UserWarning: Matplotlib is currently using pgf, which is a non-GUI backend, so cannot show the figure.\n"
     ]
    }
   ],
   "source": [
    "fig, ax = plt.subplots(1, 2, figsize=(6.68, 2.2))\n",
    "#fig, ax = plt.subplots(1, 2, figsize=(12, 4))\n",
    "\n",
    "for n in range(len(Nn)):\n",
    "    ax[0].plot(lambdas, en_levels[n, :, 1]-en_levels[n, :, 0])\n",
    "    ax[1].plot(lambdas, en_levels[n, :, 2]-en_levels[n, :, 0])\n",
    "\n",
    "ax[0].set_ylabel(\"Energy gap\")\n",
    "\n",
    "ax[0].set_title(\"$E_1 - E_0$\")\n",
    "ax[1].set_title(\"$E_2 - E_0$\")\n",
    "\n",
    "for i in range(2):\n",
    "    ax[i].legend(Nn, title=\"$N$\", loc='upper left')\n",
    "    ax[i].set_xscale('log')\n",
    "    #ax[i].set_yscale('log')\n",
    "    ax[i].set_xlabel(\"External interaction strength $\\lambda$\")\n",
    "    \n",
    "\n",
    "plt.tight_layout()\n",
    "plt.show()\n",
    "plt.savefig('energygap.pgf')"
   ]
  },
  {
   "cell_type": "code",
   "execution_count": null,
   "metadata": {},
   "outputs": [],
   "source": []
  }
 ],
 "metadata": {
  "kernelspec": {
   "display_name": "Python 3",
   "language": "python",
   "name": "python3"
  },
  "language_info": {
   "codemirror_mode": {
    "name": "ipython",
    "version": 3
   },
   "file_extension": ".py",
   "mimetype": "text/x-python",
   "name": "python",
   "nbconvert_exporter": "python",
   "pygments_lexer": "ipython3",
   "version": "3.6.10"
  }
 },
 "nbformat": 4,
 "nbformat_minor": 4
}
