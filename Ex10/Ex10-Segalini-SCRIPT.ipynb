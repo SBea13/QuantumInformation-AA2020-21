{
 "cells": [
  {
   "cell_type": "code",
   "execution_count": 1,
   "metadata": {},
   "outputs": [],
   "source": [
    "import matplotlib \n",
    "\n",
    "matplotlib.use(\"pgf\")\n",
    "matplotlib.rcParams.update({\n",
    "    \"pgf.texsystem\": \"pdflatex\",\n",
    "    'font.family': 'serif',\n",
    "    'text.usetex': True,\n",
    "    'pgf.rcfonts': False,\n",
    "})\n",
    "\n",
    "import matplotlib.pyplot as plt\n",
    "\n",
    "SMALL_SIZE = 8\n",
    "MEDIUM_SIZE = 10\n",
    "BIGGER_SIZE = 12\n",
    "\n",
    "plt.rc('font', size=SMALL_SIZE)          # controls default text sizes\n",
    "plt.rc('axes', titlesize=MEDIUM_SIZE)    # fontsize of the axes title\n",
    "plt.rc('axes', labelsize=SMALL_SIZE)     # fontsize of the x and y labels\n",
    "plt.rc('xtick', labelsize=SMALL_SIZE)    # fontsize of the tick labels\n",
    "plt.rc('ytick', labelsize=SMALL_SIZE)    # fontsize of the tick labels\n",
    "plt.rc('legend', fontsize=SMALL_SIZE)    # legend fontsize\n",
    "plt.rc('figure', titlesize=BIGGER_SIZE)  # fontsize of the figure title"
   ]
  },
  {
   "cell_type": "code",
   "execution_count": 2,
   "metadata": {},
   "outputs": [],
   "source": [
    "#import necessary packages\n",
    "import subprocess\n",
    "import numpy as np\n",
    "import os.path\n",
    "import os\n",
    "import sys\n",
    "import glob as glob\n",
    "#import matplotlib.pyplot as plt\n",
    "\n",
    "class cd:\n",
    "    \"\"\"Context manager for changing the current working directory\"\"\"\n",
    "    def __init__(self, newPath):\n",
    "        self.newPath = os.path.expanduser(newPath)\n",
    "\n",
    "    def __enter__(self):\n",
    "        self.savedPath = os.getcwd()\n",
    "        os.chdir(self.newPath)\n",
    "\n",
    "    def __exit__(self, etype, value, traceback):\n",
    "        os.chdir(self.savedPath)"
   ]
  },
  {
   "cell_type": "code",
   "execution_count": 3,
   "metadata": {},
   "outputs": [
    {
     "data": {
      "text/plain": [
       "array([2, 3, 4, 5])"
      ]
     },
     "execution_count": 3,
     "metadata": {},
     "output_type": "execute_result"
    }
   ],
   "source": [
    "Ns      = np.arange(2, 6, 1)\n",
    "Ns"
   ]
  },
  {
   "cell_type": "code",
   "execution_count": 9,
   "metadata": {},
   "outputs": [
    {
     "name": "stdout",
     "output_type": "stream",
     "text": [
      "N =  2\n",
      "N =  3\n",
      "N =  4\n",
      "N =  5\n"
     ]
    }
   ],
   "source": [
    "#run the program using o2 optimization flag\n",
    "\n",
    "subprocess.run([\"gfortran\", \"Ex10-Segalini-CODE.f90\", \"-llapack\", \"-o\", \"./run.exe\", \"-O2\"])\n",
    "\n",
    "# path = \"./data/\"\n",
    "\n",
    "#vector containing execution times \n",
    "times    = np.zeros((len(Ns), 2))\n",
    "\n",
    "for i in range(len(Ns)):\n",
    "    # lambda is set equal to 0.5\n",
    "    output = subprocess.run(['./run.exe'], stdout=subprocess.PIPE, \n",
    "                            input=\"{}\\n\".format(Ns[i]), encoding=\"ascii\")\n",
    "    print('N = ', Ns[i])    \n"
   ]
  },
  {
   "cell_type": "code",
   "execution_count": 4,
   "metadata": {},
   "outputs": [
    {
     "name": "stdout",
     "output_type": "stream",
     "text": [
      "FILE =  N002.dat\n",
      "FILE =  N003.dat\n",
      "FILE =  N004.dat\n",
      "FILE =  N005.dat\n"
     ]
    }
   ],
   "source": [
    "# np.savetxt(\"./times.dat\", times, fmt='%f')\n",
    "#data = np.loadtxt(glob.glob('*.dat'))\n",
    "\n",
    "data = np.zeros((len(Ns), 301, 5))\n",
    "\n",
    "filenames = sorted(glob.glob('*.dat'))\n",
    "\n",
    "for i, file in enumerate(filenames):\n",
    "    print(\"FILE = \", file)\n",
    "    with open(file) as f:\n",
    "        for j, line in enumerate(f):\n",
    "            output = line.split()   \n",
    "            #print(output)\n",
    "            data[i, j, 0] = output[0]\n",
    "            #print(\"lambda=\", data[i, j, 0])\n",
    "            data[i, j, 1] = output[1]\n",
    "            #print(\"e0=\", data[i, j, 1])\n",
    "            data[i, j, 2] = output[2]\n",
    "            #print(\"fsize=\", data[i, j, 2])\n",
    "            data[i, j, 3] = output[3]\n",
    "            #print(\"n_it=\", data[i, j, 3])\n",
    "            data[i, j, 4] = output[4]\n",
    "            #print(\"exec_time=\", data[i, j, 4])\n"
   ]
  },
  {
   "cell_type": "code",
   "execution_count": 12,
   "metadata": {},
   "outputs": [
    {
     "name": "stderr",
     "output_type": "stream",
     "text": [
      "D:\\Anaconda\\envs\\tf\\lib\\site-packages\\ipykernel_launcher.py:32: UserWarning: Matplotlib is currently using pgf, which is a non-GUI backend, so cannot show the figure.\n"
     ]
    }
   ],
   "source": [
    "fig, ax = plt.subplots(1, 2, figsize=(6.68, 2.2))\n",
    "#fig, ax = plt.subplots(1, 1, figsize=(14, 6))\n",
    "\n",
    "l = np.linspace(0,3,301)\n",
    "mf = -1-(l[0:201])**2/4\n",
    "mf2 = -abs(l[201:])\n",
    "\n",
    "tot_mf = np.concatenate((mf, mf2))\n",
    "\n",
    "ax[0].plot(data[i, :, 0], tot_mf, c='r', label=\"MF solution\")\n",
    "\n",
    "col = ['springgreen', 'coral', 'plum', 'cornflowerblue']\n",
    "for i in range(len(Ns)):\n",
    "    ax[0].plot(data[i, :, 0], data[i, :, 1], c = col[i], label=\"N = \"+str(Ns[i]))\n",
    "\n",
    "ax[0].set_xlabel(\"External interaction strength $\\lambda$\")\n",
    "ax[0].set_ylabel(\"$E_0/N$\")\n",
    "ax[0].legend(loc='lower left')\n",
    "\n",
    "ax[1].set_xscale('log')\n",
    "ax[1].plot(data[i, :, 0], tot_mf, c='r', label=\"MF solution\")\n",
    "\n",
    "col = ['springgreen', 'coral', 'plum', 'cornflowerblue']\n",
    "for i in range(len(Ns)):\n",
    "    ax[1].plot(data[i, :, 0], data[i, :, 1], c = col[i], label=\"N = \"+str(Ns[i]))\n",
    "\n",
    "ax[1].set_xlabel(\"Logscale of external interaction strength $\\lambda$\")\n",
    "ax[1].set_ylabel(\"$E_0/N$\")\n",
    "ax[1].legend(loc='lower left')\n",
    "\n",
    "plt.tight_layout()\n",
    "plt.show()\n",
    "plt.savefig('gs.pgf')"
   ]
  },
  {
   "cell_type": "code",
   "execution_count": 15,
   "metadata": {},
   "outputs": [
    {
     "name": "stderr",
     "output_type": "stream",
     "text": [
      "D:\\Anaconda\\envs\\tf\\lib\\site-packages\\ipykernel_launcher.py:21: UserWarning: Matplotlib is currently using pgf, which is a non-GUI backend, so cannot show the figure.\n"
     ]
    }
   ],
   "source": [
    "exec_time = []\n",
    "err_t = []\n",
    "\n",
    "for i in range(len(Ns)):\n",
    "    exec_time.append(np.mean(data[i, :, 4]))\n",
    "    err_t.append(np.std(data[i, :, 4]))\n",
    "\n",
    "fig, ax = plt.subplots(1, 1, figsize=(4, 3))\n",
    "#fig, ax = plt.subplots(1, 1, figsize=(10, 6))\n",
    "\n",
    "ax.set_xlabel('Number of particles $N$')\n",
    "ax.set_ylabel('Execution time [s] in logscale')\n",
    "\n",
    "#ax.set_title('RSRG iteration average execution time')\n",
    "ax.set_yscale('log')\n",
    "\n",
    "ax.errorbar(Ns, exec_time, yerr=err_t, fmt = '--x', ecolor = 'r', c = 'orange', label=\"$t \\pm \\sigma_t$\")\n",
    "ax.legend(loc='upper left')\n",
    "\n",
    "plt.tight_layout()\n",
    "plt.show()\n",
    "plt.savefig('times.pgf')"
   ]
  },
  {
   "cell_type": "code",
   "execution_count": 8,
   "metadata": {},
   "outputs": [
    {
     "name": "stderr",
     "output_type": "stream",
     "text": [
      "D:\\Anaconda\\envs\\tf\\lib\\site-packages\\ipykernel_launcher.py:29: UserWarning: Matplotlib is currently using pgf, which is a non-GUI backend, so cannot show the figure.\n"
     ]
    }
   ],
   "source": [
    "fig, ax = plt.subplots(1, 2, figsize=(6.68, 2.2))\n",
    "#fig, ax = plt.subplots(1, 2, figsize=(14, 6))\n",
    "\n",
    "col = ['springgreen', 'coral', 'plum', 'cornflowerblue']\n",
    "for i in range(len(Ns)):\n",
    "    ax[0].plot(data[i, :, 0], data[i, :, 3], c = col[i], label=\"N = \"+str(Ns[i]))\n",
    "\n",
    "ax[0].set_xlabel(\"External interaction strength $\\lambda$\")\n",
    "ax[0].set_ylabel(\"Number of iterations\")\n",
    "ax[0].legend(loc='lower left')\n",
    "\n",
    "avg_n_it = []\n",
    "err_n_it = []\n",
    "\n",
    "for i in range(len(Ns)):\n",
    "    avg_n_it.append(np.mean(data[i, :, 3]))\n",
    "    err_n_it.append(np.std(data[i, :, 3]))\n",
    "\n",
    "ax[1].set_xlabel(\"Number of particles $N$\")\n",
    "ax[1].set_ylabel(\"Average number of iterations\")\n",
    "\n",
    "#ax[1].set_yscale('log')\n",
    "\n",
    "ax[1].errorbar(Ns, avg_n_it, yerr=err_n_it, fmt = '--x', ecolor = 'r', c = 'orange', label=\"$n_{it} \\pm \\sigma_{n_{it}}$\")\n",
    "ax[1].legend(loc='lower right')\n",
    "\n",
    "\n",
    "plt.tight_layout()\n",
    "plt.show()\n",
    "plt.savefig('iterations.pgf')"
   ]
  },
  {
   "cell_type": "code",
   "execution_count": null,
   "metadata": {},
   "outputs": [],
   "source": []
  }
 ],
 "metadata": {
  "kernelspec": {
   "display_name": "Python 3",
   "language": "python",
   "name": "python3"
  },
  "language_info": {
   "codemirror_mode": {
    "name": "ipython",
    "version": 3
   },
   "file_extension": ".py",
   "mimetype": "text/x-python",
   "name": "python",
   "nbconvert_exporter": "python",
   "pygments_lexer": "ipython3",
   "version": "3.6.10"
  }
 },
 "nbformat": 4,
 "nbformat_minor": 4
}
