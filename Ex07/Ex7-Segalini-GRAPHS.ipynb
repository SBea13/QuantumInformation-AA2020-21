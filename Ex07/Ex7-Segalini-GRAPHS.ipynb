{
 "cells": [
  {
   "cell_type": "code",
   "execution_count": 7,
   "metadata": {},
   "outputs": [],
   "source": [
    "#import necessary packages\n",
    "import subprocess\n",
    "import numpy as np\n",
    "import matplotlib.pyplot as plt\n",
    "import os.path\n",
    "import os"
   ]
  },
  {
   "cell_type": "code",
   "execution_count": 8,
   "metadata": {},
   "outputs": [],
   "source": [
    "import matplotlib \n",
    "\n",
    "matplotlib.use(\"pgf\")\n",
    "matplotlib.rcParams.update({\n",
    "    \"pgf.texsystem\": \"pdflatex\",\n",
    "    'font.family': 'serif',\n",
    "    'text.usetex': True,\n",
    "    'pgf.rcfonts': False,\n",
    "})\n",
    "\n",
    "import matplotlib.pyplot as plt\n",
    "\n",
    "SMALL_SIZE = 8\n",
    "MEDIUM_SIZE = 10\n",
    "BIGGER_SIZE = 12\n",
    "\n",
    "plt.rc('font', size=SMALL_SIZE)          # controls default text sizes\n",
    "plt.rc('axes', titlesize=MEDIUM_SIZE)     # fontsize of the axes title\n",
    "plt.rc('axes', labelsize=SMALL_SIZE)    # fontsize of the x and y labels\n",
    "plt.rc('xtick', labelsize=SMALL_SIZE)    # fontsize of the tick labels\n",
    "plt.rc('ytick', labelsize=SMALL_SIZE)    # fontsize of the tick labels\n",
    "plt.rc('legend', fontsize=SMALL_SIZE)    # legend fontsize\n",
    "plt.rc('figure', titlesize=BIGGER_SIZE)  # fontsize of the figure title"
   ]
  },
  {
   "cell_type": "code",
   "execution_count": 9,
   "metadata": {},
   "outputs": [],
   "source": [
    "x    = np.loadtxt(\"T1E_x.dat\")\n",
    "x100 = np.loadtxt(\"T100E_x.dat\")\n",
    "x20  = np.loadtxt(\"T20E_x.dat\")\n",
    "\n",
    "sx    = np.loadtxt(\"T1sigma_x.dat\")\n",
    "sx100 = np.loadtxt(\"T100sigma_x.dat\")\n",
    "sx20  = np.loadtxt(\"T20sigma_x.dat\")\n",
    "\n",
    "p    = np.loadtxt(\"T1E_p.dat\")\n",
    "p100 = np.loadtxt(\"T100E_p.dat\")\n",
    "p20  = np.loadtxt(\"T20E_p.dat\")\n",
    "\n",
    "sp    = np.loadtxt(\"T1sigma_p.dat\")\n",
    "sp100 = np.loadtxt(\"T100sigma_p.dat\")\n",
    "sp20  = np.loadtxt(\"T20sigma_p.dat\")\n"
   ]
  },
  {
   "cell_type": "code",
   "execution_count": 10,
   "metadata": {
    "scrolled": false
   },
   "outputs": [
    {
     "name": "stderr",
     "output_type": "stream",
     "text": [
      "D:\\Anaconda\\envs\\tf\\lib\\site-packages\\ipykernel_launcher.py:16: UserWarning: Matplotlib is currently using pgf, which is a non-GUI backend, so cannot show the figure.\n",
      "  app.launch_new_instance()\n"
     ]
    }
   ],
   "source": [
    "fig, (ax1,ax2) = plt.subplots(1, 2, figsize=(6.68, 2.20))\n",
    "# fig, (ax1,ax2) = plt.subplots(1, 2, figsize=(16, 7))\n",
    "\n",
    "ax1.plot(x[:,0], x[:,1], '-r')\n",
    "ax1.fill_between(x[:,0], x[:,1]-sx[:,1], x[:,1]+sx[:,1], facecolor='pink', alpha=0.5)\n",
    "\n",
    "ax2.plot(p[:,0], p[:,1], '-k')\n",
    "#ax2.fill_between(p[:,0], p[:,1]-sp[:,1], p[:,1]+sp[:,1], facecolor='blue', alpha=0.5)\n",
    "\n",
    "ax1.set_xlabel('t [A.U.]')\n",
    "ax2.set_xlabel('t [A.U.]')\n",
    "ax1.set_ylabel('E(x)')\n",
    "ax2.set_ylabel('E(p)')\n",
    "\n",
    "plt.tight_layout()\n",
    "plt.show()\n",
    "plt.savefig('T1.pgf')"
   ]
  },
  {
   "cell_type": "code",
   "execution_count": 11,
   "metadata": {},
   "outputs": [
    {
     "name": "stderr",
     "output_type": "stream",
     "text": [
      "D:\\Anaconda\\envs\\tf\\lib\\site-packages\\ipykernel_launcher.py:16: UserWarning: Matplotlib is currently using pgf, which is a non-GUI backend, so cannot show the figure.\n",
      "  app.launch_new_instance()\n"
     ]
    }
   ],
   "source": [
    "fig, (ax1,ax2) = plt.subplots(1, 2, figsize=(6.68, 2.20))\n",
    "# fig, (ax1,ax2) = plt.subplots(1, 2, figsize=(16, 7))\n",
    "\n",
    "ax1.plot(x20[:,0], x20[:,1], '-r')\n",
    "ax1.fill_between(x20[:,0], x20[:,1]-sx20[:,1], x20[:,1]+sx20[:,1], facecolor='pink', alpha=0.5)\n",
    "\n",
    "ax2.plot(p20[:,0], p20[:,1], '-k')\n",
    "#ax2.fill_between(p20[:,0], p20[:,1]-sp20[:,1], p20[:,1]+sp20[:,1], facecolor='blue', alpha=0.5)\n",
    "\n",
    "ax1.set_xlabel('t [A.U.]')\n",
    "ax2.set_xlabel('t [A.U.]')\n",
    "ax1.set_ylabel('E(x)')\n",
    "ax2.set_ylabel('E(p)')\n",
    "\n",
    "plt.tight_layout()\n",
    "plt.show()\n",
    "plt.savefig('T20.pgf')"
   ]
  },
  {
   "cell_type": "code",
   "execution_count": 12,
   "metadata": {},
   "outputs": [
    {
     "name": "stderr",
     "output_type": "stream",
     "text": [
      "D:\\Anaconda\\envs\\tf\\lib\\site-packages\\ipykernel_launcher.py:16: UserWarning: Matplotlib is currently using pgf, which is a non-GUI backend, so cannot show the figure.\n",
      "  app.launch_new_instance()\n"
     ]
    }
   ],
   "source": [
    "fig, (ax1,ax2) = plt.subplots(1, 2, figsize=(6.68, 2.20))\n",
    "# fig, (ax1,ax2) = plt.subplots(1, 2, figsize=(16, 7))\n",
    "\n",
    "ax1.plot(x100[:,0], x100[:,1], '-r')\n",
    "ax1.fill_between(x100[:,0], x100[:,1]-sx100[:,1], x100[:,1]+sx100[:,1], facecolor='pink', alpha=0.5)\n",
    "\n",
    "ax2.plot(p100[:,0], p100[:,1], '-k')\n",
    "#ax2.fill_between(p100[:,0], p100[:,1]-sp100[:,1], p100[:,1]+sp100[:,1], facecolor='blue', alpha=0.5)\n",
    "\n",
    "ax1.set_xlabel('t [A.U.]')\n",
    "ax2.set_xlabel('t [A.U.]')\n",
    "ax1.set_ylabel('E(x)')\n",
    "ax2.set_ylabel('E(p)')\n",
    "\n",
    "plt.tight_layout()\n",
    "plt.show()\n",
    "plt.savefig('T100.pgf')"
   ]
  },
  {
   "cell_type": "code",
   "execution_count": 13,
   "metadata": {},
   "outputs": [
    {
     "name": "stderr",
     "output_type": "stream",
     "text": [
      "D:\\Anaconda\\envs\\tf\\lib\\site-packages\\ipykernel_launcher.py:17: UserWarning: Matplotlib is currently using pgf, which is a non-GUI backend, so cannot show the figure.\n"
     ]
    }
   ],
   "source": [
    "fig, (ax1,ax2) = plt.subplots(1, 2, figsize=(6.68, 2.20))\n",
    "# fig, (ax1,ax2) = plt.subplots(1, 2, figsize=(16, 7))\n",
    "\n",
    "ax1.plot(x20[:,0], x20[:,1]-1/20*x20[:,0], '-r')\n",
    "\n",
    "ax2.plot(x100[:,0], x100[:,1]-1/100*x100[:,0], '-r')\n",
    "#ax2.fill_between(p100[:,0], p100[:,1]-sp100[:,1], p100[:,1]+sp100[:,1], facecolor='blue', alpha=0.5)\n",
    "\n",
    "ax1.set_xlabel('t [A.U.]')\n",
    "ax2.set_xlabel('t [A.U.]')\n",
    "ax1.set_ylabel('E(x)-t/T')\n",
    "\n",
    "ax1.set_title('T = 20')\n",
    "ax2.set_title('T = 100')\n",
    "\n",
    "plt.tight_layout()\n",
    "plt.show()\n",
    "plt.savefig('T_fluc.pgf')"
   ]
  },
  {
   "cell_type": "code",
   "execution_count": null,
   "metadata": {},
   "outputs": [],
   "source": []
  }
 ],
 "metadata": {
  "kernelspec": {
   "display_name": "Python 3",
   "language": "python",
   "name": "python3"
  },
  "language_info": {
   "codemirror_mode": {
    "name": "ipython",
    "version": 3
   },
   "file_extension": ".py",
   "mimetype": "text/x-python",
   "name": "python",
   "nbconvert_exporter": "python",
   "pygments_lexer": "ipython3",
   "version": "3.6.10"
  }
 },
 "nbformat": 4,
 "nbformat_minor": 4
}
