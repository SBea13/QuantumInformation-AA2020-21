{
 "cells": [
  {
   "cell_type": "code",
   "execution_count": 1,
   "metadata": {},
   "outputs": [],
   "source": [
    "#import necessary packages\n",
    "import subprocess\n",
    "import numpy as np\n",
    "from numpy.polynomial.hermite import *\n",
    "import matplotlib.pyplot as plt\n",
    "import os.path\n",
    "import os\n",
    "import sys\n",
    "import glob as glob"
   ]
  },
  {
   "cell_type": "code",
   "execution_count": 2,
   "metadata": {},
   "outputs": [],
   "source": [
    "# function for computing theoretical eigenfunctions\n",
    "\n",
    "def QHO_Eigenfunction(n,x): #Evaluates the n-th exact eigenfunction of the h.o. on the point x\n",
    "    \n",
    "    m = 1\n",
    "    w = 1\n",
    "    h_bar = 1\n",
    "    pi = np.pi\n",
    "\n",
    "    psi = []\n",
    "    # coefficients for Hermite series, all 0s except the n-th term\n",
    "    herm_coeff = []\n",
    "    for i in range(n):\n",
    "        herm_coeff.append(0)\n",
    "    herm_coeff.append(1)\n",
    "\n",
    "    psi = np.exp(-m*w*x**2/(2*h_bar)) * hermval((m*w/h_bar)**0.5 * x, herm_coeff)\n",
    "    # normalization factor for the wavefunction:\n",
    "    psi = np.multiply(psi, 1 / ((2**n) * np.math.factorial(n))**0.5 * (m*w/(pi*h_bar))**0.25)\n",
    "    return psi "
   ]
  },
  {
   "cell_type": "code",
   "execution_count": 3,
   "metadata": {},
   "outputs": [],
   "source": [
    "xmax = 25\n",
    "xmin = -25\n",
    "N = 5001\n",
    "\n",
    "lattice = np.linspace(xmin, xmax, N)\n",
    "\n",
    "kk = 100\n",
    "psis = [lattice, ]\n",
    "\n",
    "for n in range(kk):\n",
    "    psis.append(QHO_Eigenfunction(n, lattice))\n",
    "    \n",
    "psis = np.array(psis).T\n",
    "\n",
    "psis_max100 = np.max(psis[:,99])\n",
    "\n",
    "psis_max0 = np.max(psis[:,0])\n"
   ]
  },
  {
   "cell_type": "code",
   "execution_count": 4,
   "metadata": {},
   "outputs": [],
   "source": [
    "np.savetxt(\"true_evct.dat\", psis, delimiter = '\\t')"
   ]
  },
  {
   "cell_type": "code",
   "execution_count": 5,
   "metadata": {},
   "outputs": [],
   "source": [
    "psi_5000 = np.loadtxt(\"5000points_evc.dat\")\n"
   ]
  },
  {
   "cell_type": "code",
   "execution_count": 6,
   "metadata": {},
   "outputs": [],
   "source": [
    "diff_psi100 = []\n",
    "diff_psi100.append( lattice)\n",
    "diff_psi100.append( (psis[:,100]- psi_5000[:,100])/psis_max100 )\n",
    "diff_psi100 = np.array(diff_psi100).T\n",
    "\n",
    "diff_psi0 = []\n",
    "diff_psi0.append( lattice)\n",
    "diff_psi0.append( (psis[:,1]- psi_5000[:,1])/psis_max0 )\n",
    "diff_psi0 = np.array(diff_psi0).T"
   ]
  },
  {
   "cell_type": "code",
   "execution_count": 7,
   "metadata": {},
   "outputs": [],
   "source": [
    "np.savetxt(\"diff_psi_100.dat\", diff_psi100, delimiter = '\\t')\n",
    "np.savetxt(\"diff_psi_0.dat\", diff_psi0, delimiter = '\\t')"
   ]
  }
 ],
 "metadata": {
  "kernelspec": {
   "display_name": "Python 3",
   "language": "python",
   "name": "python3"
  },
  "language_info": {
   "codemirror_mode": {
    "name": "ipython",
    "version": 3
   },
   "file_extension": ".py",
   "mimetype": "text/x-python",
   "name": "python",
   "nbconvert_exporter": "python",
   "pygments_lexer": "ipython3",
   "version": "3.7.9"
  }
 },
 "nbformat": 4,
 "nbformat_minor": 4
}
