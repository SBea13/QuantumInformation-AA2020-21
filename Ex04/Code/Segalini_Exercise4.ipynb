{
 "cells": [
  {
   "cell_type": "markdown",
   "metadata": {},
   "source": [
    "# Homework 4\n",
    "\n",
    "**Segalini Beatrice, $1234430$, Physics of Data**\n",
    "\n",
    "### Exercise 1: Multi-run script\n",
    "\n",
    "Consider the program developed in Exercise 3 of Week 1.\n",
    "1. Define the matrix dimension $N$ as an input value to be read from file.\n",
    "1. Write a `Python` script that changes $N$ between two values $N_{min}$ and $N_{max}$, and launches the program. Store the results in different files depending on the multiplication method used.\n",
    "1. Plot (using `gnuplot`) the results for the different multiplication methods.\n",
    "\n",
    "### Exercise 2: Automated fits\n",
    "\n",
    "Consider the program of the previous exercise.\n",
    "\n",
    "1. Fit the scaling of the time needed for different methods as a function of the input size. Consider the biggest possible difference between $N_{min}$ and $N_{max}$.\n",
    "1. Save the gnuplot file you used in part $1$ and exploit it to write a python script that performs automatically the previous fits."
   ]
  },
  {
   "cell_type": "markdown",
   "metadata": {},
   "source": [
    "---\n",
    "\n"
   ]
  },
  {
   "cell_type": "markdown",
   "metadata": {},
   "source": [
    "### Exercise 1.1\n",
    "\n",
    "Fixed the code file _Ex4-Segalini-CODE.f90_ accordingly to what was requested.\n",
    "\n",
    "### Exercise 1.2"
   ]
  },
  {
   "cell_type": "code",
   "execution_count": 11,
   "metadata": {},
   "outputs": [],
   "source": [
    "#import necessary packages\n",
    "import subprocess\n",
    "import numpy as np\n",
    "import matplotlib.pyplot as plt\n",
    "import os.path\n",
    "import os\n",
    "import sys\n",
    "import glob as glob"
   ]
  },
  {
   "cell_type": "code",
   "execution_count": 4,
   "metadata": {},
   "outputs": [],
   "source": [
    "# create input file\n",
    "\n",
    "Nmax   = 2000\n",
    "Nmin   = 300\n",
    "points = 100\n",
    "\n",
    "Ns = np.logspace(np.log10(Nmin), np.log10(Nmax+1), num = points, dtype = int)\n",
    "\n",
    "np.savetxt(\"./N.dat\", Ns, fmt='%d')"
   ]
  },
  {
   "cell_type": "code",
   "execution_count": 5,
   "metadata": {},
   "outputs": [
    {
     "data": {
      "text/plain": [
       "CompletedProcess(args=['./runo2.exe'], returncode=0, stdout=b' Time taken:\\n   0.0000000000000000     \\n Time taken:\\n   3.1250000000000000E-002\\n Time taken:\\n   1.5625000000000000E-002\\n Time taken:\\n   0.0000000000000000     \\n Time taken:\\n   3.1250000000000000E-002\\n Time taken:\\n   1.5625000000000000E-002\\n Time taken:\\n   0.0000000000000000     \\n Time taken:\\n   4.6875000000000000E-002\\n Time taken:\\n   1.5625000000000000E-002\\n Time taken:\\n   0.0000000000000000     \\n Time taken:\\n   3.1250000000000000E-002\\n Time taken:\\n   3.1250000000000000E-002\\n Time taken:\\n   0.0000000000000000     \\n Time taken:\\n   3.1250000000000000E-002\\n Time taken:\\n   1.5625000000000000E-002\\n Time taken:\\n   0.0000000000000000     \\n Time taken:\\n   4.6875000000000000E-002\\n Time taken:\\n   1.5625000000000000E-002\\n Time taken:\\n   1.5625000000000000E-002\\n Time taken:\\n   3.1250000000000000E-002\\n Time taken:\\n   3.1250000000000000E-002\\n Time taken:\\n   0.0000000000000000     \\n Time taken:\\n   4.6875000000000000E-002\\n Time taken:\\n   3.1250000000000000E-002\\n Time taken:\\n   0.0000000000000000     \\n Time taken:\\n   4.6875000000000000E-002\\n Time taken:\\n   3.1250000000000000E-002\\n Time taken:\\n   0.0000000000000000     \\n Time taken:\\n   4.6875000000000000E-002\\n Time taken:\\n   3.1250000000000000E-002\\n Time taken:\\n   0.0000000000000000     \\n Time taken:\\n   6.2500000000000000E-002\\n Time taken:\\n   3.1250000000000000E-002\\n Time taken:\\n   0.0000000000000000     \\n Time taken:\\n   6.2500000000000000E-002\\n Time taken:\\n   3.1250000000000000E-002\\n Time taken:\\n   0.0000000000000000     \\n Time taken:\\n   6.2500000000000000E-002\\n Time taken:\\n   3.1250000000000000E-002\\n Time taken:\\n   0.0000000000000000     \\n Time taken:\\n   7.8125000000000000E-002\\n Time taken:\\n   3.1250000000000000E-002\\n Time taken:\\n   1.5625000000000000E-002\\n Time taken:\\n   6.2500000000000000E-002\\n Time taken:\\n   3.1250000000000000E-002\\n Time taken:\\n   0.0000000000000000     \\n Time taken:\\n   7.8125000000000000E-002\\n Time taken:\\n   3.1250000000000000E-002\\n Time taken:\\n   1.5625000000000000E-002\\n Time taken:\\n   7.8125000000000000E-002\\n Time taken:\\n   3.1250000000000000E-002\\n Time taken:\\n   0.0000000000000000     \\n Time taken:\\n   7.8125000000000000E-002\\n Time taken:\\n   4.6875000000000000E-002\\n Time taken:\\n   1.5625000000000000E-002\\n Time taken:\\n   7.8125000000000000E-002\\n Time taken:\\n   4.6875000000000000E-002\\n Time taken:\\n   1.5625000000000000E-002\\n Time taken:\\n   9.3750000000000000E-002\\n Time taken:\\n   4.6875000000000000E-002\\n Time taken:\\n   0.0000000000000000     \\n Time taken:\\n  0.10937500000000000     \\n Time taken:\\n   4.6875000000000000E-002\\n Time taken:\\n   1.5625000000000000E-002\\n Time taken:\\n   9.3750000000000000E-002\\n Time taken:\\n   6.2500000000000000E-002\\n Time taken:\\n   1.5625000000000000E-002\\n Time taken:\\n  0.10937500000000000     \\n Time taken:\\n   4.6875000000000000E-002\\n Time taken:\\n   0.0000000000000000     \\n Time taken:\\n  0.12500000000000000     \\n Time taken:\\n   6.2500000000000000E-002\\n Time taken:\\n   0.0000000000000000     \\n Time taken:\\n  0.12500000000000000     \\n Time taken:\\n   6.2500000000000000E-002\\n Time taken:\\n   0.0000000000000000     \\n Time taken:\\n  0.12500000000000000     \\n Time taken:\\n   7.8125000000000000E-002\\n Time taken:\\n   1.5625000000000000E-002\\n Time taken:\\n  0.14062500000000000     \\n Time taken:\\n   6.2500000000000000E-002\\n Time taken:\\n   0.0000000000000000     \\n Time taken:\\n  0.15625000000000000     \\n Time taken:\\n   6.2500000000000000E-002\\n Time taken:\\n   0.0000000000000000     \\n Time taken:\\n  0.15625000000000000     \\n Time taken:\\n   9.3750000000000000E-002\\n Time taken:\\n   1.5625000000000000E-002\\n Time taken:\\n  0.15625000000000000     \\n Time taken:\\n   7.8125000000000000E-002\\n Time taken:\\n   0.0000000000000000     \\n Time taken:\\n  0.17187500000000000     \\n Time taken:\\n   9.3750000000000000E-002\\n Time taken:\\n   0.0000000000000000     \\n Time taken:\\n  0.20312500000000000     \\n Time taken:\\n   9.3750000000000000E-002\\n Time taken:\\n   0.0000000000000000     \\n Time taken:\\n  0.20312500000000000     \\n Time taken:\\n  0.10937500000000000     \\n Time taken:\\n   0.0000000000000000     \\n Time taken:\\n  0.21875000000000000     \\n Time taken:\\n  0.12500000000000000     \\n Time taken:\\n   1.5625000000000000E-002\\n Time taken:\\n  0.28125000000000000     \\n Time taken:\\n  0.12500000000000000     \\n Time taken:\\n   1.5625000000000000E-002\\n Time taken:\\n  0.23437500000000000     \\n Time taken:\\n  0.12500000000000000     \\n Time taken:\\n   1.5625000000000000E-002\\n Time taken:\\n  0.23437500000000000     \\n Time taken:\\n  0.14062500000000000     \\n Time taken:\\n   1.5625000000000000E-002\\n Time taken:\\n  0.26562500000000000     \\n Time taken:\\n  0.14062500000000000     \\n Time taken:\\n   1.5625000000000000E-002\\n Time taken:\\n  0.28125000000000000     \\n Time taken:\\n  0.15625000000000000     \\n Time taken:\\n   1.5625000000000000E-002\\n Time taken:\\n  0.29687500000000000     \\n Time taken:\\n  0.15625000000000000     \\n Time taken:\\n   1.5625000000000000E-002\\n Time taken:\\n  0.31250000000000000     \\n Time taken:\\n  0.15625000000000000     \\n Time taken:\\n   1.5625000000000000E-002\\n Time taken:\\n  0.32812500000000000     \\n Time taken:\\n  0.17187500000000000     \\n Time taken:\\n   1.5625000000000000E-002\\n Time taken:\\n  0.34375000000000000     \\n Time taken:\\n  0.18750000000000000     \\n Time taken:\\n   1.5625000000000000E-002\\n Time taken:\\n  0.37500000000000000     \\n Time taken:\\n  0.20312500000000000     \\n Time taken:\\n   3.1250000000000000E-002\\n Time taken:\\n  0.40625000000000000     \\n Time taken:\\n  0.23437500000000000     \\n Time taken:\\n   1.5625000000000000E-002\\n Time taken:\\n  0.46875000000000000     \\n Time taken:\\n  0.26562500000000000     \\n Time taken:\\n   3.1250000000000000E-002\\n Time taken:\\n  0.51562500000000000     \\n Time taken:\\n  0.25000000000000000     \\n Time taken:\\n   1.5625000000000000E-002\\n Time taken:\\n  0.48437500000000000     \\n Time taken:\\n  0.25000000000000000     \\n Time taken:\\n   3.1250000000000000E-002\\n Time taken:\\n  0.50000000000000000     \\n Time taken:\\n  0.26562500000000000     \\n Time taken:\\n   1.5625000000000000E-002\\n Time taken:\\n  0.54687500000000000     \\n Time taken:\\n  0.28125000000000000     \\n Time taken:\\n   3.1250000000000000E-002\\n Time taken:\\n  0.57812500000000000     \\n Time taken:\\n  0.28125000000000000     \\n Time taken:\\n   3.1250000000000000E-002\\n Time taken:\\n  0.60937500000000000     \\n Time taken:\\n  0.31250000000000000     \\n Time taken:\\n   3.1250000000000000E-002\\n Time taken:\\n  0.64062500000000000     \\n Time taken:\\n  0.34375000000000000     \\n Time taken:\\n   3.1250000000000000E-002\\n Time taken:\\n  0.68750000000000000     \\n Time taken:\\n  0.37500000000000000     \\n Time taken:\\n   3.1250000000000000E-002\\n Time taken:\\n  0.71875000000000000     \\n Time taken:\\n  0.37500000000000000     \\n Time taken:\\n   3.1250000000000000E-002\\n Time taken:\\n  0.78125000000000000     \\n Time taken:\\n  0.39062500000000000     \\n Time taken:\\n   4.6875000000000000E-002\\n Time taken:\\n  0.81250000000000000     \\n Time taken:\\n  0.42187500000000000     \\n Time taken:\\n   3.1250000000000000E-002\\n Time taken:\\n  0.85937500000000000     \\n Time taken:\\n  0.46875000000000000     \\n Time taken:\\n   4.6875000000000000E-002\\n Time taken:\\n  0.92187500000000000     \\n Time taken:\\n  0.46875000000000000     \\n Time taken:\\n   4.6875000000000000E-002\\n Time taken:\\n  0.98437500000000000     \\n Time taken:\\n  0.51562500000000000     \\n Time taken:\\n   4.6875000000000000E-002\\n Time taken:\\n   1.0312500000000000     \\n Time taken:\\n  0.54687500000000000     \\n Time taken:\\n   4.6875000000000000E-002\\n Time taken:\\n   1.0937500000000000     \\n Time taken:\\n  0.57812500000000000     \\n Time taken:\\n   4.6875000000000000E-002\\n Time taken:\\n   1.2343750000000000     \\n Time taken:\\n  0.67187500000000000     \\n Time taken:\\n   6.2500000000000000E-002\\n Time taken:\\n   1.5312500000000000     \\n Time taken:\\n  0.68750000000000000     \\n Time taken:\\n   4.6875000000000000E-002\\n Time taken:\\n   1.3593750000000000     \\n Time taken:\\n  0.73437500000000000     \\n Time taken:\\n   6.2500000000000000E-002\\n Time taken:\\n   1.4218750000000000     \\n Time taken:\\n  0.78125000000000000     \\n Time taken:\\n   7.8125000000000000E-002\\n Time taken:\\n   1.5312500000000000     \\n Time taken:\\n  0.87500000000000000     \\n Time taken:\\n   6.2500000000000000E-002\\n Time taken:\\n   1.6250000000000000     \\n Time taken:\\n  0.85937500000000000     \\n Time taken:\\n   6.2500000000000000E-002\\n Time taken:\\n   2.0937500000000000     \\n Time taken:\\n  0.87500000000000000     \\n Time taken:\\n   7.8125000000000000E-002\\n Time taken:\\n   1.7343750000000000     \\n Time taken:\\n  0.92187500000000000     \\n Time taken:\\n   7.8125000000000000E-002\\n Time taken:\\n   1.8750000000000000     \\n Time taken:\\n  0.98437500000000000     \\n Time taken:\\n   9.3750000000000000E-002\\n Time taken:\\n   2.0625000000000000     \\n Time taken:\\n   1.6250000000000000     \\n Time taken:\\n   9.3750000000000000E-002\\n Time taken:\\n   2.2187500000000000     \\n Time taken:\\n   1.1406250000000000     \\n Time taken:\\n   9.3750000000000000E-002\\n Time taken:\\n   2.2343750000000000     \\n Time taken:\\n   1.1875000000000000     \\n Time taken:\\n  0.10937500000000000     \\n Time taken:\\n   2.3125000000000000     \\n Time taken:\\n   1.2812500000000000     \\n Time taken:\\n  0.10937500000000000     \\n Time taken:\\n   2.4687500000000000     \\n Time taken:\\n   1.3437500000000000     \\n Time taken:\\n  0.10937500000000000     \\n Time taken:\\n   2.6406250000000000     \\n Time taken:\\n   1.4375000000000000     \\n Time taken:\\n  0.12500000000000000     \\n Time taken:\\n   3.4687500000000000     \\n Time taken:\\n   1.5000000000000000     \\n Time taken:\\n  0.12500000000000000     \\n Time taken:\\n   2.9218750000000000     \\n Time taken:\\n   1.5781250000000000     \\n Time taken:\\n  0.12500000000000000     \\n Time taken:\\n   3.0937500000000000     \\n Time taken:\\n   2.0156250000000000     \\n Time taken:\\n  0.14062500000000000     \\n Time taken:\\n   3.6718750000000000     \\n Time taken:\\n   1.7812500000000000     \\n Time taken:\\n  0.14062500000000000     \\n Time taken:\\n   3.8593750000000000     \\n Time taken:\\n   1.8906250000000000     \\n Time taken:\\n  0.15625000000000000     \\n Time taken:\\n   4.8750000000000000     \\n Time taken:\\n   2.0000000000000000     \\n Time taken:\\n  0.17187500000000000     \\n Time taken:\\n   6.2656250000000000     \\n Time taken:\\n   2.5625000000000000     \\n Time taken:\\n  0.17187500000000000     \\n Time taken:\\n   4.6093750000000000     \\n Time taken:\\n   2.2500000000000000     \\n Time taken:\\n  0.17187500000000000     \\n Time taken:\\n   7.8906250000000000     \\n Time taken:\\n   2.4687500000000000     \\n Time taken:\\n  0.20312500000000000     \\n Time taken:\\n   7.7656250000000000     \\n Time taken:\\n   2.6093750000000000     \\n Time taken:\\n  0.20312500000000000     \\n Time taken:\\n   9.5625000000000000     \\n Time taken:\\n   2.7656250000000000     \\n Time taken:\\n  0.20312500000000000     \\n Time taken:\\n   10.968750000000000     \\n Time taken:\\n   2.8750000000000000     \\n Time taken:\\n  0.26562500000000000     \\n Time taken:\\n   13.984375000000000     \\n Time taken:\\n   3.3437500000000000     \\n Time taken:\\n  0.28125000000000000     \\n Time taken:\\n   15.140625000000000     \\n Time taken:\\n   3.2343750000000000     \\n Time taken:\\n  0.28125000000000000     \\n Time taken:\\n   15.484375000000000     \\n Time taken:\\n   3.4687500000000000     \\n Time taken:\\n  0.26562500000000000     \\n Time taken:\\n   18.484375000000000     \\n Time taken:\\n   3.6406250000000000     \\n Time taken:\\n  0.29687500000000000     \\n Time taken:\\n   18.546875000000000     \\n Time taken:\\n   3.7500000000000000     \\n Time taken:\\n  0.29687500000000000     \\n Time taken:\\n   23.046875000000000     \\n Time taken:\\n   4.0312500000000000     \\n Time taken:\\n  0.32812500000000000     \\n Time taken:\\n   24.625000000000000     \\n Time taken:\\n   4.4375000000000000     \\n Time taken:\\n  0.34375000000000000     \\n Time taken:\\n   25.000000000000000     \\n Time taken:\\n   4.5937500000000000     \\n Time taken:\\n  0.35937500000000000     \\n Time taken:\\n   28.156250000000000     \\n Time taken:\\n   4.7343750000000000     \\n Time taken:\\n  0.37500000000000000     \\n Time taken:\\n   30.875000000000000     \\n Time taken:\\n   5.0312500000000000     \\n Time taken:\\n  0.39062500000000000     \\n Time taken:\\n   28.468750000000000     \\n Time taken:\\n   5.4218750000000000     \\n Execution complete.\\n')"
      ]
     },
     "execution_count": 5,
     "metadata": {},
     "output_type": "execute_result"
    }
   ],
   "source": [
    "#run the program using o2 optimization flag\n",
    "\n",
    "subprocess.run([\"gfortran\", \"Ex4-Segalini-CODE.f90\", \"-o\", \"runo2.exe\", \"-O2\"])\n",
    "subprocess.run(['./runo2.exe'], stdout=subprocess.PIPE)"
   ]
  },
  {
   "cell_type": "markdown",
   "metadata": {},
   "source": [
    "### Exercise 1.3\n",
    "\n",
    "Create the requested graph via gnuplot - both graph and code attached.\n",
    "\n",
    "----\n",
    "\n",
    "\n",
    "### Exercise 2.1\n",
    "\n",
    "The fitting process was implemented via the code found in _.gnu_ files.\n",
    "\n",
    "### Exercise 2.2\n"
   ]
  },
  {
   "cell_type": "code",
   "execution_count": 13,
   "metadata": {},
   "outputs": [],
   "source": [
    "# filenames\n",
    "plot = subprocess.run([\"gnuplot\", \"fit.gnu\"])\n"
   ]
  },
  {
   "cell_type": "code",
   "execution_count": null,
   "metadata": {},
   "outputs": [],
   "source": []
  },
  {
   "cell_type": "code",
   "execution_count": null,
   "metadata": {},
   "outputs": [],
   "source": []
  }
 ],
 "metadata": {
  "kernelspec": {
   "display_name": "Python 3",
   "language": "python",
   "name": "python3"
  },
  "language_info": {
   "codemirror_mode": {
    "name": "ipython",
    "version": 3
   },
   "file_extension": ".py",
   "mimetype": "text/x-python",
   "name": "python",
   "nbconvert_exporter": "python",
   "pygments_lexer": "ipython3",
   "version": "3.7.9"
  }
 },
 "nbformat": 4,
 "nbformat_minor": 4
}
